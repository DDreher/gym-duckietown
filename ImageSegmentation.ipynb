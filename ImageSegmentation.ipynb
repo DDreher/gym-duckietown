{
  "cells": [
    {
      "cell_type": "code",
      "execution_count": 16,
      "outputs": [],
      "source": "import tensorflow as tf\nimport pandas as pd\nfrom os import walk as walk\n",
      "metadata": {
        "pycharm": {
          "metadata": false,
          "name": "#%%\n",
          "is_executing": false
        }
      }
    },
    {
      "cell_type": "code",
      "execution_count": 17,
      "outputs": [],
      "source": "PATH_DATA \u003d \u0027./ImageSegData/\u0027\nDIR_LABELS \u003d \u0027labels\u0027\nDIR_IMAGES \u003d \u0027images\u0027\n\nPATH_LABELS \u003d PATH_DATA+DIR_LABELS\nPATH_IMAGES \u003d PATH_DATA+DIR_IMAGES\n",
      "metadata": {
        "pycharm": {
          "metadata": false,
          "name": "#%%\n",
          "is_executing": false
        }
      }
    },
    {
      "cell_type": "markdown",
      "source": "# Create CSV\n",
      "metadata": {
        "pycharm": {
          "metadata": false,
          "name": "#%% md\n",
          "is_executing": false
        }
      }
    },
    {
      "cell_type": "code",
      "execution_count": 28,
      "outputs": [],
      "source": "\n        ",
      "metadata": {
        "pycharm": {
          "metadata": false,
          "name": "#%%\n",
          "is_executing": false
        }
      }
    },
    {
      "cell_type": "code",
      "execution_count": 35,
      "outputs": [],
      "source": "class SegNet:\n    def __init__(self):\n        self.num_classes \u003d 6\n        self.input_width \u003d 640\n        self.input_height \u003d 480\n        self.input_channels \u003d 3\n        self._build_model()\n    \n    def _build_model(self):\n        self.inputs_pl \u003d tf.placeholder(tf.float32, [None, self.input_height, self.input_width, self.input_channels])\n        self.labels_pl \u003d tf.placeholder(tf.float32, [None, self.input_height, self.input_width, self.input_channels])\n\n        # Encoder pass\n        # TODO\n        \n        # Decoder pass\n        # TODO\n        \n    def train(self, max_steps \u003d 11, batch_size\u003d3):\n        \n        labels \u003d []\n        for (dirpath, dirnames, filenames) in walk(PATH_LABELS):\n            for name in filenames:\n                path \u003d dirpath+\u0027/\u0027+name\n                labels.append(path)\n        \n        images \u003d []\n        for (dirpath, dirnames, filenames) in walk(PATH_IMAGES):\n            for name in filenames:\n                path \u003d dirpath+\u0027/\u0027+name\n                images.append(path)\n                \n        # Create a dataset (image, label)-pairs\n        ds \u003d tf.data.Dataset.from_tensor_slices((images, labels))\n        \n        def load_and_preprocess_from_paths(image_path, label_path):\n            image_raw \u003d tf.read_file(image_path)\n            label_raw \u003d tf.read_file(label_path)\n            \n            # TODO: PREPROCESSING (Normalization..)\n            image \u003d tf.image.decode_png(image_raw, channels\u003d3)\n            label \u003d tf.image.decode_png(label_raw, channels\u003d3) \n            return image, label\n        \n        image_label_ds \u003d ds.map(load_and_preprocess_from_paths)\n        image_label_ds \u003d image_label_ds.shuffle(buffer_size\u003d3)\n        image_label_ds \u003d image_label_ds.repeat()\n        image_label_ds \u003d image_label_ds.batch(batch_size)\n        #image_label_ds \u003d image_label_ds.prefetch(buffer_size\u003dAUTOTUNE)\n        \n        # create general iterator\n        iterator \u003d tf.data.Iterator.from_structure(image_label_ds.output_types,\n                                               image_label_ds.output_shapes)\n        \n        next_element \u003d iterator.get_next()\n        training_init_op \u003d iterator.make_initializer(image_label_ds)\n        \n        with tf.Session() as session:\n            session.run(tf.local_variables_initializer())\n            session.run(tf.global_variables_initializer())\n            session.run(training_init_op)\n            \n            for step in range(max_steps):\n                feed_dict \u003d {self.inputs_pl: next_element}\n                print(session.run(next_element))\n                \n                ",
      "metadata": {
        "pycharm": {
          "metadata": false,
          "name": "#%%\n",
          "is_executing": false
        }
      }
    },
    {
      "cell_type": "code",
      "execution_count": 36,
      "outputs": [],
      "source": "model \u003d SegNet()",
      "metadata": {
        "pycharm": {
          "metadata": false,
          "name": "#%%\n",
          "is_executing": false
        }
      }
    },
    {
      "cell_type": "code",
      "execution_count": 37,
      "outputs": [
        {
          "name": "stdout",
          "text": [
            "(array([[[[115, 209, 255],\n         [115, 209, 255],\n         [115, 209, 255],\n         ...,\n         [115, 209, 255],\n         [115, 209, 255],\n         [115, 209, 255]],\n\n        [[115, 209, 255],\n         [115, 209, 255],\n         [115, 209, 255],\n         ...,\n         [115, 209, 255],\n         [115, 209, 255],\n         [115, 209, 255]],\n\n        [[115, 209, 255],\n         [115, 209, 255],\n         [115, 209, 255],\n         ...,\n         [115, 209, 255],\n         [115, 209, 255],\n         [115, 209, 255]],\n\n        ...,\n\n        [[ 62,  63,  57],\n         [ 61,  62,  57],\n         [ 61,  62,  57],\n         ...,\n         [ 54,  55,  51],\n         [ 53,  55,  51],\n         [ 53,  54,  51]],\n\n        [[ 62,  62,  57],\n         [ 61,  62,  57],\n         [ 61,  62,  56],\n         ...,\n         [ 54,  56,  52],\n         [ 54,  55,  52],\n         [ 54,  55,  51]],\n\n        [[ 62,  62,  57],\n         [ 61,  62,  56],\n         [ 61,  62,  56],\n         ...,\n         [ 55,  57,  53],\n         [ 55,  56,  53],\n         [ 54,  56,  52]]],\n\n\n       [[[115, 209, 255],\n         [115, 209, 255],\n         [115, 209, 255],\n         ...,\n         [115, 209, 255],\n         [115, 209, 255],\n         [115, 209, 255]],\n\n        [[115, 209, 255],\n         [115, 209, 255],\n         [115, 209, 255],\n         ...,\n         [115, 209, 255],\n         [115, 209, 255],\n         [115, 209, 255]],\n\n        [[115, 209, 255],\n         [115, 209, 255],\n         [115, 209, 255],\n         ...,\n         [115, 209, 255],\n         [115, 209, 255],\n         [115, 209, 255]],\n\n        ...,\n\n        [[ 74,  67,  65],\n         [ 74,  67,  64],\n         [ 74,  67,  64],\n         ...,\n         [ 59,  57,  58],\n         [ 57,  56,  56],\n         [ 58,  57,  58]],\n\n        [[ 74,  67,  64],\n         [ 74,  67,  64],\n         [ 73,  67,  63],\n         ...,\n         [ 57,  56,  57],\n         [ 56,  55,  55],\n         [ 55,  54,  54]],\n\n        [[ 74,  67,  63],\n         [ 73,  67,  63],\n         [ 73,  66,  63],\n         ...,\n         [ 59,  58,  59],\n         [ 58,  57,  58],\n         [ 57,  55,  56]]],\n\n\n       [[[115, 209, 255],\n         [115, 209, 255],\n         [115, 209, 255],\n         ...,\n         [115, 209, 255],\n         [115, 209, 255],\n         [115, 209, 255]],\n\n        [[115, 209, 255],\n         [115, 209, 255],\n         [115, 209, 255],\n         ...,\n         [115, 209, 255],\n         [115, 209, 255],\n         [115, 209, 255]],\n\n        [[115, 209, 255],\n         [115, 209, 255],\n         [115, 209, 255],\n         ...,\n         [115, 209, 255],\n         [115, 209, 255],\n         [115, 209, 255]],\n\n        ...,\n\n        [[ 67,  64,  60],\n         [ 67,  64,  59],\n         [ 67,  64,  59],\n         ...,\n         [ 59,  57,  49],\n         [ 60,  57,  49],\n         [ 60,  57,  49]],\n\n        [[ 67,  65,  60],\n         [ 67,  65,  60],\n         [ 67,  65,  60],\n         ...,\n         [ 59,  57,  49],\n         [ 59,  57,  48],\n         [ 59,  57,  49]],\n\n        [[ 68,  66,  61],\n         [ 68,  65,  61],\n         [ 68,  65,  61],\n         ...,\n         [ 59,  58,  49],\n         [ 59,  57,  49],\n         [ 59,  57,  48]]]], dtype\u003duint8), array([[[[  0,   0,   0],\n         [  0,   0,   0],\n         [  0,   0,   0],\n         ...,\n         [  0,   0,   0],\n         [  0,   0,   0],\n         [  0,   0,   0]],\n\n        [[  0,   0,   0],\n         [  0,   0,   0],\n         [  0,   0,   0],\n         ...,\n         [  0,   0,   0],\n         [  0,   0,   0],\n         [  0,   0,   0]],\n\n        [[  0,   0,   0],\n         [  0,   0,   0],\n         [  0,   0,   0],\n         ...,\n         [  0,   0,   0],\n         [  0,   0,   0],\n         [  0,   0,   0]],\n\n        ...,\n\n        [[  0,   0, 255],\n         [  0,   0, 255],\n         [  0,   0, 255],\n         ...,\n         [  0,   0, 255],\n         [  0,   0, 255],\n         [  0,   0, 255]],\n\n        [[  0,   0, 255],\n         [  0,   0, 255],\n         [  0,   0, 255],\n         ...,\n         [  0,   0, 255],\n         [  0,   0, 255],\n         [  0,   0, 255]],\n\n        [[  0,   0, 255],\n         [  0,   0, 255],\n         [  0,   0, 255],\n         ...,\n         [  0,   0, 255],\n         [  0,   0, 255],\n         [  0,   0, 255]]],\n\n\n       [[[  0,   0,   0],\n         [  0,   0,   0],\n         [  0,   0,   0],\n         ...,\n         [  0,   0,   0],\n         [  0,   0,   0],\n         [  0,   0,   0]],\n\n        [[  0,   0,   0],\n         [  0,   0,   0],\n         [  0,   0,   0],\n         ...,\n         [  0,   0,   0],\n         [  0,   0,   0],\n         [  0,   0,   0]],\n\n        [[  0,   0,   0],\n         [  0,   0,   0],\n         [  0,   0,   0],\n         ...,\n         [  0,   0,   0],\n         [  0,   0,   0],\n         [  0,   0,   0]],\n\n        ...,\n\n        [[  0,   0, 255],\n         [  0,   0, 255],\n         [  0,   0, 255],\n         ...,\n         [  0,   0, 255],\n         [  0,   0, 255],\n         [  0,   0, 255]],\n\n        [[  0,   0, 255],\n         [  0,   0, 255],\n         [  0,   0, 255],\n         ...,\n         [  0,   0, 255],\n         [  0,   0, 255],\n         [  0,   0, 255]],\n\n        [[  0,   0, 255],\n         [  0,   0, 255],\n         [  0,   0, 255],\n         ...,\n         [  0,   0, 255],\n         [  0,   0, 255],\n         [  0,   0, 255]]],\n\n\n       [[[  0,   0,   0],\n         [  0,   0,   0],\n         [  0,   0,   0],\n         ...,\n         [  0,   0,   0],\n         [  0,   0,   0],\n         [  0,   0,   0]],\n\n        [[  0,   0,   0],\n         [  0,   0,   0],\n         [  0,   0,   0],\n         ...,\n         [  0,   0,   0],\n         [  0,   0,   0],\n         [  0,   0,   0]],\n\n        [[  0,   0,   0],\n         [  0,   0,   0],\n         [  0,   0,   0],\n         ...,\n         [  0,   0,   0],\n         [  0,   0,   0],\n         [  0,   0,   0]],\n\n        ...,\n\n        [[  0,   0, 255],\n         [  0,   0, 255],\n         [  0,   0, 255],\n         ...,\n         [  0,   0, 255],\n         [  0,   0, 255],\n         [  0,   0, 255]],\n\n        [[  0,   0, 255],\n         [  0,   0, 255],\n         [  0,   0, 255],\n         ...,\n         [  0,   0, 255],\n         [  0,   0, 255],\n         [  0,   0, 255]],\n\n        [[  0,   0, 255],\n         [  0,   0, 255],\n         [  0,   0, 255],\n         ...,\n         [  0,   0, 255],\n         [  0,   0, 255],\n         [  0,   0, 255]]]], dtype\u003duint8))\n(array([[[[115, 209, 255],\n         [115, 209, 255],\n         [115, 209, 255],\n         ...,\n         [115, 209, 255],\n         [115, 209, 255],\n         [115, 209, 255]],\n\n        [[115, 209, 255],\n         [115, 209, 255],\n         [115, 209, 255],\n         ...,\n         [115, 209, 255],\n         [115, 209, 255],\n         [115, 209, 255]],\n\n        [[115, 209, 255],\n         [115, 209, 255],\n         [115, 209, 255],\n         ...,\n         [115, 209, 255],\n         [115, 209, 255],\n         [115, 209, 255]],\n\n        ...,\n\n        [[ 64,  65,  61],\n         [ 64,  64,  61],\n         [ 63,  64,  60],\n         ...,\n         [ 63,  62,  59],\n         [ 63,  62,  59],\n         [ 63,  62,  59]],\n\n        [[ 65,  65,  62],\n         [ 64,  65,  61],\n         [ 64,  64,  61],\n         ...,\n         [ 62,  62,  59],\n         [ 62,  62,  59],\n         [ 62,  62,  59]],\n\n        [[ 66,  66,  63],\n         [ 65,  66,  62],\n         [ 65,  65,  62],\n         ...,\n         [ 62,  62,  59],\n         [ 62,  62,  59],\n         [ 62,  62,  59]]],\n\n\n       [[[115, 209, 255],\n         [115, 209, 255],\n         [115, 209, 255],\n         ...,\n         [115, 209, 255],\n         [115, 209, 255],\n         [115, 209, 255]],\n\n        [[115, 209, 255],\n         [115, 209, 255],\n         [115, 209, 255],\n         ...,\n         [115, 209, 255],\n         [115, 209, 255],\n         [115, 209, 255]],\n\n        [[115, 209, 255],\n         [115, 209, 255],\n         [115, 209, 255],\n         ...,\n         [115, 209, 255],\n         [115, 209, 255],\n         [115, 209, 255]],\n\n        ...,\n\n        [[ 56,  54,  51],\n         [ 56,  54,  51],\n         [ 55,  53,  50],\n         ...,\n         [ 55,  52,  51],\n         [ 56,  52,  51],\n         [ 56,  53,  51]],\n\n        [[ 56,  54,  51],\n         [ 55,  53,  50],\n         [ 55,  53,  50],\n         ...,\n         [ 55,  52,  51],\n         [ 56,  52,  51],\n         [ 56,  53,  51]],\n\n        [[ 55,  53,  50],\n         [ 55,  53,  50],\n         [ 55,  53,  50],\n         ...,\n         [ 55,  52,  51],\n         [ 56,  52,  51],\n         [ 56,  52,  51]]],\n\n\n       [[[115, 209, 255],\n         [115, 209, 255],\n         [115, 209, 255],\n         ...,\n         [115, 209, 255],\n         [115, 209, 255],\n         [115, 209, 255]],\n\n        [[115, 209, 255],\n         [115, 209, 255],\n         [115, 209, 255],\n         ...,\n         [115, 209, 255],\n         [115, 209, 255],\n         [115, 209, 255]],\n\n        [[115, 209, 255],\n         [115, 209, 255],\n         [115, 209, 255],\n         ...,\n         [115, 209, 255],\n         [115, 209, 255],\n         [115, 209, 255]],\n\n        ...,\n\n        [[ 56,  55,  50],\n         [ 57,  57,  51],\n         [ 59,  58,  52],\n         ...,\n         [ 72,  70,  68],\n         [ 73,  70,  68],\n         [ 72,  69,  67]],\n\n        [[ 59,  58,  52],\n         [ 60,  59,  53],\n         [ 61,  60,  55],\n         ...,\n         [ 73,  70,  68],\n         [ 73,  70,  68],\n         [ 72,  69,  67]],\n\n        [[ 61,  60,  54],\n         [ 62,  61,  56],\n         [ 63,  62,  57],\n         ...,\n         [ 73,  70,  68],\n         [ 73,  70,  68],\n         [ 72,  69,  67]]]], dtype\u003duint8), array([[[[  0,   0,   0],\n         [  0,   0,   0],\n         [  0,   0,   0],\n         ...,\n         [  0,   0,   0],\n         [  0,   0,   0],\n         [  0,   0,   0]],\n\n        [[  0,   0,   0],\n         [  0,   0,   0],\n         [  0,   0,   0],\n         ...,\n         [  0,   0,   0],\n         [  0,   0,   0],\n         [  0,   0,   0]],\n\n        [[  0,   0,   0],\n         [  0,   0,   0],\n         [  0,   0,   0],\n         ...,\n         [  0,   0,   0],\n         [  0,   0,   0],\n         [  0,   0,   0]],\n\n        ...,\n\n        [[  0,   0, 255],\n         [  0,   0, 255],\n         [  0,   0, 255],\n         ...,\n         [  0,   0, 255],\n         [  0,   0, 255],\n         [  0,   0, 255]],\n\n        [[  0,   0, 255],\n         [  0,   0, 255],\n         [  0,   0, 255],\n         ...,\n         [  0,   0, 255],\n         [  0,   0, 255],\n         [  0,   0, 255]],\n\n        [[  0,   0, 255],\n         [  0,   0, 255],\n         [  0,   0, 255],\n         ...,\n         [  0,   0, 255],\n         [  0,   0, 255],\n         [  0,   0, 255]]],\n\n\n       [[[  0,   0,   0],\n         [  0,   0,   0],\n         [  0,   0,   0],\n         ...,\n         [  0,   0,   0],\n         [  0,   0,   0],\n         [  0,   0,   0]],\n\n        [[  0,   0,   0],\n         [  0,   0,   0],\n         [  0,   0,   0],\n         ...,\n         [  0,   0,   0],\n         [  0,   0,   0],\n         [  0,   0,   0]],\n\n        [[  0,   0,   0],\n         [  0,   0,   0],\n         [  0,   0,   0],\n         ...,\n         [  0,   0,   0],\n         [  0,   0,   0],\n         [  0,   0,   0]],\n\n        ...,\n\n        [[  0,   0, 255],\n         [  0,   0, 255],\n         [  0,   0, 255],\n         ...,\n         [  0,   0, 255],\n         [  0,   0, 255],\n         [  0,   0, 255]],\n\n        [[  0,   0, 255],\n         [  0,   0, 255],\n         [  0,   0, 255],\n         ...,\n         [  0,   0, 255],\n         [  0,   0, 255],\n         [  0,   0, 255]],\n\n        [[  0,   0, 255],\n         [  0,   0, 255],\n         [  0,   0, 255],\n         ...,\n         [  0,   0, 255],\n         [  0,   0, 255],\n         [  0,   0, 255]]],\n\n\n       [[[  0,   0,   0],\n         [  0,   0,   0],\n         [  0,   0,   0],\n         ...,\n         [  0,   0,   0],\n         [  0,   0,   0],\n         [  0,   0,   0]],\n\n        [[  0,   0,   0],\n         [  0,   0,   0],\n         [  0,   0,   0],\n         ...,\n         [  0,   0,   0],\n         [  0,   0,   0],\n         [  0,   0,   0]],\n\n        [[  0,   0,   0],\n         [  0,   0,   0],\n         [  0,   0,   0],\n         ...,\n         [  0,   0,   0],\n         [  0,   0,   0],\n         [  0,   0,   0]],\n\n        ...,\n\n        [[  0,   0, 255],\n         [  0,   0, 255],\n         [  0,   0, 255],\n         ...,\n         [  0,   0, 255],\n         [  0,   0, 255],\n         [  0,   0, 255]],\n\n        [[  0,   0, 255],\n         [  0,   0, 255],\n         [  0,   0, 255],\n         ...,\n         [  0,   0, 255],\n         [  0,   0, 255],\n         [  0,   0, 255]],\n\n        [[  0,   0, 255],\n         [  0,   0, 255],\n         [  0,   0, 255],\n         ...,\n         [  0,   0, 255],\n         [  0,   0, 255],\n         [  0,   0, 255]]]], dtype\u003duint8))\n"
          ],
          "output_type": "stream"
        }
      ],
      "source": "model.train(2)",
      "metadata": {
        "pycharm": {
          "metadata": false,
          "name": "#%%\n",
          "is_executing": false
        }
      }
    },
    {
      "cell_type": "code",
      "execution_count": null,
      "outputs": [],
      "source": "\n",
      "metadata": {
        "pycharm": {
          "metadata": false,
          "name": "#%%\n"
        }
      }
    }
  ],
  "metadata": {
    "kernelspec": {
      "name": "python3",
      "language": "python",
      "display_name": "Python 3"
    },
    "stem_cell": {
      "cell_type": "raw",
      "source": "",
      "metadata": {
        "pycharm": {
          "metadata": false
        }
      }
    }
  },
  "nbformat": 4,
  "nbformat_minor": 2
}